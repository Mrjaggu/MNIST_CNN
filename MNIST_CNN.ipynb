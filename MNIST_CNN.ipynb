{
  "nbformat": 4,
  "nbformat_minor": 0,
  "metadata": {
    "colab": {
      "name": "MNIST_CNN.ipynb",
      "version": "0.3.2",
      "provenance": [],
      "collapsed_sections": []
    },
    "kernelspec": {
      "name": "python2",
      "display_name": "Python 2"
    }
  },
  "cells": [
    {
      "metadata": {
        "id": "rSHThoNffezh",
        "colab_type": "text"
      },
      "cell_type": "markdown",
      "source": [
        "# Keras pre-requiste libraries\n"
      ]
    },
    {
      "metadata": {
        "id": "lwh9j_NNfrCo",
        "colab_type": "code",
        "colab": {}
      },
      "cell_type": "code",
      "source": [
        "#import keras pre-requiste libraries\n",
        "from keras.layers import Input, Dense, Conv2D, MaxPooling2D, UpSampling2D,Flatten , Reshape\n",
        "from keras.models import Model\n",
        "from keras import backend as K\n",
        "import keras.layers\n",
        "import keras as Kr\n",
        "from keras.models import model_from_json"
      ],
      "execution_count": 0,
      "outputs": []
    },
    {
      "metadata": {
        "id": "ITCjFe1-fu53",
        "colab_type": "text"
      },
      "cell_type": "markdown",
      "source": [
        "# Mounting drive "
      ]
    },
    {
      "metadata": {
        "id": "5p9pFKT8fbdN",
        "colab_type": "code",
        "outputId": "067e83ae-f4f3-44b0-8550-cbd61349d1da",
        "colab": {
          "base_uri": "https://localhost:8080/",
          "height": 34
        }
      },
      "cell_type": "code",
      "source": [
        "from google.colab import drive\n",
        "drive.mount('/content/drive/')"
      ],
      "execution_count": 0,
      "outputs": [
        {
          "output_type": "stream",
          "text": [
            "Drive already mounted at /content/drive/; to attempt to forcibly remount, call drive.mount(\"/content/drive/\", force_remount=True).\n"
          ],
          "name": "stdout"
        }
      ]
    },
    {
      "metadata": {
        "id": "drUtTUxcgAt6",
        "colab_type": "code",
        "outputId": "7282449f-a1a3-410c-b88e-3b6bd3502c7d",
        "colab": {
          "base_uri": "https://localhost:8080/",
          "height": 34
        }
      },
      "cell_type": "code",
      "source": [
        "#checking file loaded in drive \n",
        "!ls "
      ],
      "execution_count": 0,
      "outputs": [
        {
          "output_type": "stream",
          "text": [
            "sample_data\n"
          ],
          "name": "stdout"
        }
      ]
    },
    {
      "metadata": {
        "id": "RioEufG5gKkc",
        "colab_type": "text"
      },
      "cell_type": "markdown",
      "source": [
        "# Encoder"
      ]
    },
    {
      "metadata": {
        "id": "tmEYmfcngFPP",
        "colab_type": "code",
        "colab": {}
      },
      "cell_type": "code",
      "source": [
        "#Defining input for encoder model"
      ],
      "execution_count": 0,
      "outputs": []
    },
    {
      "metadata": {
        "id": "VcSHqlPXgRPD",
        "colab_type": "code",
        "colab": {}
      },
      "cell_type": "code",
      "source": [
        "input_img = Input(shape=(28, 28, 1))"
      ],
      "execution_count": 0,
      "outputs": []
    },
    {
      "metadata": {
        "id": "5El7RN4fgZYq",
        "colab_type": "code",
        "colab": {}
      },
      "cell_type": "code",
      "source": [
        "#Encoder layers"
      ],
      "execution_count": 0,
      "outputs": []
    },
    {
      "metadata": {
        "id": "0feucO1rgcBE",
        "colab_type": "code",
        "colab": {}
      },
      "cell_type": "code",
      "source": [
        "x1 = Conv2D(16, (3, 3), activation='relu', padding='same')(input_img)\n",
        "x2 = MaxPooling2D((2, 2), padding='same')(x1)\n",
        "x3 = Conv2D(8, (3, 3), activation='relu', padding='same')(x2)\n",
        "x4 = MaxPooling2D((2, 2), padding='same')(x3)\n",
        "x5 = Conv2D(8, (3, 3), activation='relu', padding='same')(x4)\n",
        "x6 = MaxPooling2D((2, 2), padding='same')(x5)\n",
        "encoded = Flatten()(x6)\n",
        "\n",
        "#defining model for encoder\n",
        "Encoder = Model(input_img,encoded)"
      ],
      "execution_count": 0,
      "outputs": []
    },
    {
      "metadata": {
        "id": "CZu6--ohgo45",
        "colab_type": "text"
      },
      "cell_type": "markdown",
      "source": [
        "# Decoder"
      ]
    },
    {
      "metadata": {
        "id": "--z8oQu0gkOo",
        "colab_type": "code",
        "colab": {}
      },
      "cell_type": "code",
      "source": [
        "#Defining input for decoder model\n",
        "encoded_shape =Input(shape=(None,))"
      ],
      "execution_count": 0,
      "outputs": []
    },
    {
      "metadata": {
        "id": "jF9LC6lHgzNa",
        "colab_type": "code",
        "colab": {}
      },
      "cell_type": "code",
      "source": [
        "#Decoder layers\n",
        "\n",
        "x5 = Reshape((4,4,8,))(encoded_shape)\n",
        "x6 = Conv2D(8, (3, 3), activation='relu', padding='same')(x5)\n",
        "x7 = UpSampling2D((2, 2))(x6)\n",
        "x8 = Conv2D(8, (3, 3), activation='relu', padding='same')(x7)\n",
        "x9 = UpSampling2D((2, 2))(x8)\n",
        "x10 = Conv2D(16, (3, 3), activation='relu')(x9)\n",
        "x11 = UpSampling2D((2, 2))(x10)\n",
        "decoded = Conv2D(1, (3, 3), activation='sigmoid', padding='same')(x11)\n",
        "\n",
        "#defining model for decoder\n",
        "Decoder = Model(encoded_shape,decoded)"
      ],
      "execution_count": 0,
      "outputs": []
    },
    {
      "metadata": {
        "id": "4HZsuFwXg-Ol",
        "colab_type": "code",
        "colab": {}
      },
      "cell_type": "code",
      "source": [
        "#combining encoder and decoder model \n",
        "outputs = Decoder(Encoder(input_img))\n",
        "#defined autoencoder model as combined model of encoder and decoder\n",
        "autoencoder = Model(input_img, outputs, name='vae_mlp')"
      ],
      "execution_count": 0,
      "outputs": []
    },
    {
      "metadata": {
        "id": "XcvVF12nhbxJ",
        "colab_type": "text"
      },
      "cell_type": "markdown",
      "source": [
        "# Dataset"
      ]
    },
    {
      "metadata": {
        "id": "UlcJWBifhVaC",
        "colab_type": "code",
        "colab": {}
      },
      "cell_type": "code",
      "source": [
        "#loading MNISt dataset\n",
        "from keras.datasets import mnist\n",
        "import numpy as np\n",
        "\n",
        "(x_train, _), (x_test, _) = mnist.load_data()\n",
        "\n",
        "x_train = x_train.astype('float32') / 255.\n",
        "x_test = x_test.astype('float32') / 255.\n",
        "x_train = np.reshape(x_train, (len(x_train), 28, 28, 1))  # adapt this if using `channels_first` image data format\n",
        "x_test = np.reshape(x_test, (len(x_test), 28, 28, 1))  # adapt this if using `channels_first` image data format"
      ],
      "execution_count": 0,
      "outputs": []
    },
    {
      "metadata": {
        "id": "9LHONNJPhraV",
        "colab_type": "text"
      },
      "cell_type": "markdown",
      "source": [
        "# Training our Model"
      ]
    },
    {
      "metadata": {
        "id": "ngAMMu9zhx4q",
        "colab_type": "code",
        "colab": {}
      },
      "cell_type": "code",
      "source": [
        "#Before training our model we need to compile our model\n",
        "#Using optimizer as adadelta and loss function as binary cross entropy\n",
        "autoencoder.compile(optimizer='adadelta', loss='binary_crossentropy')"
      ],
      "execution_count": 0,
      "outputs": []
    },
    {
      "metadata": {
        "id": "65QBXw-ziEzu",
        "colab_type": "code",
        "outputId": "99ac53a2-54cf-4343-9bfb-0ec2e08aac5c",
        "colab": {
          "base_uri": "https://localhost:8080/",
          "height": 243
        }
      },
      "cell_type": "code",
      "source": [
        "#pringting model summary to check model is combined properly \n",
        "autoencoder.summary()"
      ],
      "execution_count": 0,
      "outputs": [
        {
          "output_type": "stream",
          "text": [
            "_________________________________________________________________\n",
            "Layer (type)                 Output Shape              Param #   \n",
            "=================================================================\n",
            "input_1 (InputLayer)         (None, 28, 28, 1)         0         \n",
            "_________________________________________________________________\n",
            "model_1 (Model)              (None, 128)               1904      \n",
            "_________________________________________________________________\n",
            "model_2 (Model)              (None, 28, 28, 1)         2481      \n",
            "=================================================================\n",
            "Total params: 4,385\n",
            "Trainable params: 4,385\n",
            "Non-trainable params: 0\n",
            "_________________________________________________________________\n"
          ],
          "name": "stdout"
        }
      ]
    },
    {
      "metadata": {
        "id": "n1R184qjiTG1",
        "colab_type": "code",
        "outputId": "f2204709-de72-4f72-a8c1-4e8c8dc5210d",
        "colab": {
          "base_uri": "https://localhost:8080/",
          "height": 121
        }
      },
      "cell_type": "code",
      "source": [
        "#model fit\n",
        "#training for 2 epoch u can try different epoch number\n",
        "autoencoder.fit(x_train, x_train,\n",
        "                epochs=2,\n",
        "                batch_size=128,\n",
        "                shuffle=True,\n",
        "                validation_data=(x_test, x_test))"
      ],
      "execution_count": 0,
      "outputs": [
        {
          "output_type": "stream",
          "text": [
            "Train on 60000 samples, validate on 10000 samples\n",
            "Epoch 1/2\n",
            "60000/60000 [==============================] - 98s 2ms/step - loss: 0.2072 - val_loss: 0.1572\n",
            "Epoch 2/2\n",
            "60000/60000 [==============================] - 96s 2ms/step - loss: 0.1485 - val_loss: 0.1422\n"
          ],
          "name": "stdout"
        },
        {
          "output_type": "execute_result",
          "data": {
            "text/plain": [
              "<keras.callbacks.History at 0x7fc41b90da90>"
            ]
          },
          "metadata": {
            "tags": []
          },
          "execution_count": 16
        }
      ]
    },
    {
      "metadata": {
        "id": "7QtNUmomjXze",
        "colab_type": "text"
      },
      "cell_type": "markdown",
      "source": [
        "# Saving Model"
      ]
    },
    {
      "metadata": {
        "id": "3EfBgg6YiiDJ",
        "colab_type": "code",
        "outputId": "ac2fee67-8ecd-42e6-9540-8d9579c9778a",
        "colab": {
          "base_uri": "https://localhost:8080/",
          "height": 34
        }
      },
      "cell_type": "code",
      "source": [
        "#saving combined model autoencoder\n",
        "# serialize autoencoder model to JSON\n",
        "autoencoder_json = autoencoder.to_json()\n",
        "with open(\"autoencoder.json\", \"w\") as json_file:\n",
        "    json_file.write(autoencoder_json)\n",
        "# serialize weights to HDF5\n",
        "autoencoder.save_weights(\"autoencoder_model.h5\")\n",
        "print(\"Saved autoencoder model to disk\")"
      ],
      "execution_count": 0,
      "outputs": [
        {
          "output_type": "stream",
          "text": [
            "Saved autoencoder model to disk\n"
          ],
          "name": "stdout"
        }
      ]
    },
    {
      "metadata": {
        "id": "IrUxZK_Ajjh_",
        "colab_type": "code",
        "outputId": "237952b1-7a32-4cd5-bdb9-4f36e3724130",
        "colab": {
          "base_uri": "https://localhost:8080/",
          "height": 34
        }
      },
      "cell_type": "code",
      "source": [
        "#saving encoder model\n",
        "# serialize encoder model to JSON\n",
        "model_json = Encoder.to_json()\n",
        "with open(\"Encoder.json\", \"w\") as json_file:\n",
        "    json_file.write(model_json)\n",
        "# serialize weights to HDF5\n",
        "Encoder.save_weights(\"Encoder_model.h5\")\n",
        "print(\"Saved encoder model to disk\")"
      ],
      "execution_count": 0,
      "outputs": [
        {
          "output_type": "stream",
          "text": [
            "Saved encoder model to disk\n"
          ],
          "name": "stdout"
        }
      ]
    },
    {
      "metadata": {
        "id": "m_gSEr2fjswL",
        "colab_type": "code",
        "outputId": "f212595a-e914-48f9-95ee-41620f97c8dc",
        "colab": {
          "base_uri": "https://localhost:8080/",
          "height": 34
        }
      },
      "cell_type": "code",
      "source": [
        "#saving decoder model\n",
        "# serialize decoder model to JSON\n",
        "model1_json = Decoder.to_json()\n",
        "with open(\"Decoder.json\", \"w\") as json_file:\n",
        "    json_file.write(model1_json)\n",
        "# serialize weights to HDF5\n",
        "Decoder.save_weights(\"Decoder_model.h5\")\n",
        "print(\"Saved decoder model to disk\")"
      ],
      "execution_count": 0,
      "outputs": [
        {
          "output_type": "stream",
          "text": [
            "Saved decoder model to disk\n"
          ],
          "name": "stdout"
        }
      ]
    },
    {
      "metadata": {
        "id": "IxBWteRmj6FN",
        "colab_type": "text"
      },
      "cell_type": "markdown",
      "source": [
        "# Loading Model"
      ]
    },
    {
      "metadata": {
        "id": "qTfzSdbgjzLa",
        "colab_type": "code",
        "outputId": "89f9963a-02f5-495e-92c4-8c83c8b53a83",
        "colab": {
          "base_uri": "https://localhost:8080/",
          "height": 34
        }
      },
      "cell_type": "code",
      "source": [
        "#loading encoder model\n",
        "# load encoder json and create model\n",
        "json_file = open('Encoder.json', 'r')\n",
        "loaded_model_json = json_file.read()\n",
        "json_file.close()\n",
        "Encoder_loaded_model = model_from_json(loaded_model_json)\n",
        "# load weights into new model\n",
        "Encoder_loaded_model.load_weights(\"Encoder_model.h5\")\n",
        "print(\"Loaded encoder model from disk\")"
      ],
      "execution_count": 0,
      "outputs": [
        {
          "output_type": "stream",
          "text": [
            "Loaded encoder model from disk\n"
          ],
          "name": "stdout"
        }
      ]
    },
    {
      "metadata": {
        "id": "R4QEHDwfk2Ud",
        "colab_type": "code",
        "outputId": "1343af3d-6ed7-4e43-f604-094a8bab8488",
        "colab": {
          "base_uri": "https://localhost:8080/",
          "height": 34
        }
      },
      "cell_type": "code",
      "source": [
        "#loading decoder model\n",
        "#load decoder json and create model\n",
        "json_file_dec = open('Decoder.json','r')\n",
        "json = json_file_dec.read()\n",
        "json_file_dec.close()\n",
        "Decoder_loaded_model =model_from_json(json)\n",
        "#load weightsa into new model\n",
        "Decoder_loaded_model.load_weights(\"Decoder_model.h5\")\n",
        "\n",
        "print \"Decoder model loaded successfully\""
      ],
      "execution_count": 0,
      "outputs": [
        {
          "output_type": "stream",
          "text": [
            "Decoder model loaded successfully\n"
          ],
          "name": "stdout"
        }
      ]
    },
    {
      "metadata": {
        "id": "iJIxZyI8k708",
        "colab_type": "code",
        "outputId": "556859ca-60b4-4520-d4cb-250c74076043",
        "colab": {
          "base_uri": "https://localhost:8080/",
          "height": 34
        }
      },
      "cell_type": "code",
      "source": [
        "#loading combined model autoencoder\n",
        "#load decoder json and create model\n",
        "autoencoder_jsonfile = open('autoencoder.json','r')\n",
        "json = autoencoder_jsonfile.read()\n",
        "autoencoder_jsonfile.close()\n",
        "autoencoder_loaded_model =model_from_json(json)\n",
        "#load weightsa into new model\n",
        "autoencoder_loaded_model.load_weights(\"autoencoder_model.h5\")\n",
        "\n",
        "print \"autoencoder model loaded successfully\""
      ],
      "execution_count": 0,
      "outputs": [
        {
          "output_type": "stream",
          "text": [
            "autoencoder model loaded successfully\n"
          ],
          "name": "stdout"
        }
      ]
    },
    {
      "metadata": {
        "id": "GokvhHzHlI70",
        "colab_type": "text"
      },
      "cell_type": "markdown",
      "source": [
        "# Testing our Model"
      ]
    },
    {
      "metadata": {
        "id": "wz1MwwJol1uY",
        "colab_type": "text"
      },
      "cell_type": "markdown",
      "source": [
        "autoencoder model"
      ]
    },
    {
      "metadata": {
        "id": "QzN4UnJ4lEt6",
        "colab_type": "code",
        "colab": {}
      },
      "cell_type": "code",
      "source": [
        "#Before testing our combined model we need to compile oure model for optimize purpose\n",
        "\n",
        "autoencoder_loaded_model.compile(loss = 'binary_crossentropy', optimizer='rmsprop', metrics=['accuracy'])"
      ],
      "execution_count": 0,
      "outputs": []
    },
    {
      "metadata": {
        "id": "pHNvUMlSlfW6",
        "colab_type": "code",
        "colab": {}
      },
      "cell_type": "code",
      "source": [
        "#testing our test data by passing to autoencoder model\n",
        "decoded_img = autoencoder_loaded_model.predict(x_test)"
      ],
      "execution_count": 0,
      "outputs": []
    },
    {
      "metadata": {
        "id": "c1CL8SHgloY5",
        "colab_type": "code",
        "outputId": "5f541eb2-c61e-4555-9611-2dcddef89b4f",
        "colab": {
          "base_uri": "https://localhost:8080/",
          "height": 244
        }
      },
      "cell_type": "code",
      "source": [
        "import matplotlib.pyplot as plt\n",
        "\n",
        "n = 10  # how many digits we will display\n",
        "plt.figure(figsize=(20, 4))\n",
        "for i in range(n):\n",
        "    # display original\n",
        "    ax = plt.subplot(2, n, i + 1)\n",
        "    plt.imshow(x_test[i].reshape(28, 28))\n",
        "    plt.gray()\n",
        "    ax.get_xaxis().set_visible(False)\n",
        "    ax.get_yaxis().set_visible(False)\n",
        "\n",
        "    # display reconstruction\n",
        "    ax = plt.subplot(2, n, i + 1 + n)\n",
        "    plt.imshow(decoded_img[i].reshape(28, 28))\n",
        "    plt.gray()\n",
        "    ax.get_xaxis().set_visible(False)\n",
        "    ax.get_yaxis().set_visible(False)\n",
        "plt.show()"
      ],
      "execution_count": 0,
      "outputs": [
        {
          "output_type": "display_data",
          "data": {
            "image/png": "[encoded data removed]",
            "text/plain": [
              "<Figure size 1440x288 with 20 Axes>"
            ]
          },
          "metadata": {
            "tags": []
          }
        }
      ]
    },
    {
      "metadata": {
        "id": "h0gQThaSl5ia",
        "colab_type": "text"
      },
      "cell_type": "markdown",
      "source": [
        "Encoder model"
      ]
    },
    {
      "metadata": {
        "id": "saEAZ6oMlxpx",
        "colab_type": "code",
        "colab": {}
      },
      "cell_type": "code",
      "source": [
        "#Encoder model compile\n",
        "Encoder_loaded_model.compile(loss = 'binary_crossentropy', optimizer='rmsprop', metrics=['accuracy'])"
      ],
      "execution_count": 0,
      "outputs": []
    },
    {
      "metadata": {
        "id": "Gw5ofgvemDz_",
        "colab_type": "code",
        "colab": {}
      },
      "cell_type": "code",
      "source": [
        "#Decoder model compile\n",
        "Decoder_loaded_model.compile(loss='binary_crossentropy', optimizer='rmsprop', metrics=['accuracy'])"
      ],
      "execution_count": 0,
      "outputs": []
    },
    {
      "metadata": {
        "id": "5ZmmPghymJVj",
        "colab_type": "code",
        "colab": {}
      },
      "cell_type": "code",
      "source": [
        "#testing with test data\n",
        "encoded_output = Encoder_loaded_model.predict(x_test)"
      ],
      "execution_count": 0,
      "outputs": []
    },
    {
      "metadata": {
        "id": "1-hShZD5mUem",
        "colab_type": "code",
        "colab": {}
      },
      "cell_type": "code",
      "source": [
        "#giving encoded output to input of decoder model\n",
        "decoded_output = Decoder_loaded_model.predict(encoded_output)"
      ],
      "execution_count": 0,
      "outputs": []
    },
    {
      "metadata": {
        "id": "D095Iemqmo-4",
        "colab_type": "code",
        "outputId": "4c8b323d-c393-4b82-ca19-a341a47495df",
        "colab": {
          "base_uri": "https://localhost:8080/",
          "height": 244
        }
      },
      "cell_type": "code",
      "source": [
        "import matplotlib.pyplot as plt\n",
        "\n",
        "n = 10  # how many digits we will display\n",
        "plt.figure(figsize=(20, 4))\n",
        "for i in range(n):\n",
        "    # display original\n",
        "    ax = plt.subplot(2, n, i + 1)\n",
        "    plt.imshow(x_test[i].reshape(28, 28))\n",
        "    plt.gray()\n",
        "    ax.get_xaxis().set_visible(False)\n",
        "    ax.get_yaxis().set_visible(False)\n",
        "\n",
        "    # display reconstruction\n",
        "    ax = plt.subplot(2, n, i + 1 + n)\n",
        "    plt.imshow(decoded_output[i].reshape(28, 28))\n",
        "    plt.gray()\n",
        "    ax.get_xaxis().set_visible(False)\n",
        "    ax.get_yaxis().set_visible(False)\n",
        "plt.show()"
      ],
      "execution_count": 0,
      "outputs": [
        {
          "output_type": "display_data",
          "data": {
            "image/png": "[encoded data removed]",
            "text/plain": [
              "<Figure size 1440x288 with 20 Axes>"
            ]
          },
          "metadata": {
            "tags": []
          }
        }
      ]
    },
    {
      "metadata": {
        "id": "l9u0m0hznLJW",
        "colab_type": "text"
      },
      "cell_type": "markdown",
      "source": [
        "# Testing our model with random vector"
      ]
    },
    {
      "metadata": {
        "id": "UpKs9XE_m3so",
        "colab_type": "code",
        "colab": {}
      },
      "cell_type": "code",
      "source": [
        "#generating random gaussian \n",
        "import numpy as np\n",
        "image_vect = np.random.normal(0,1,size=(10,128,))"
      ],
      "execution_count": 0,
      "outputs": []
    },
    {
      "metadata": {
        "id": "86CkSAbYnnja",
        "colab_type": "code",
        "colab": {}
      },
      "cell_type": "code",
      "source": [
        "#using decoder model to test our model\n",
        "decoded_output = Decoder_loaded_model.predict(image_vect)"
      ],
      "execution_count": 0,
      "outputs": []
    },
    {
      "metadata": {
        "id": "JIeiyWrCn-QS",
        "colab_type": "code",
        "outputId": "80b442bb-4afe-4825-bea6-08c49a25e3e9",
        "colab": {
          "base_uri": "https://localhost:8080/",
          "height": 244
        }
      },
      "cell_type": "code",
      "source": [
        "import matplotlib.pyplot as plt\n",
        "\n",
        "n = 10  # how many digits we will display\n",
        "plt.figure(figsize=(20, 4))\n",
        "for i in range(n):\n",
        "    # display original\n",
        "    ax = plt.subplot(2, n, i + 1)\n",
        "    plt.imshow(x_test[i].reshape(28, 28))\n",
        "    plt.gray()\n",
        "    ax.get_xaxis().set_visible(False)\n",
        "    ax.get_yaxis().set_visible(False)\n",
        "\n",
        "    # display reconstruction\n",
        "    ax = plt.subplot(2, n, i + 1 + n)\n",
        "    plt.imshow(decoded_output[i].reshape(28, 28))\n",
        "    plt.gray()\n",
        "    ax.get_xaxis().set_visible(False)\n",
        "    ax.get_yaxis().set_visible(False)\n",
        "plt.show()"
      ],
      "execution_count": 0,
      "outputs": [
        {
          "output_type": "display_data",
          "data": {
            "image/png": "[encoded data removed]",
            "text/plain": [
              "<Figure size 1440x288 with 20 Axes>"
            ]
          },
          "metadata": {
            "tags": []
          }
        }
      ]
    }
  ]
}